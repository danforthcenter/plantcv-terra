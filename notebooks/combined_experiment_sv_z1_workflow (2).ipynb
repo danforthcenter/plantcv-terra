{
 "cells": [
  {
   "cell_type": "code",
   "execution_count": null,
   "id": "isolated-trading",
   "metadata": {},
   "outputs": [],
   "source": [
    "# Imports \n",
    "from plantcv import plantcv as pcv\n",
    "import sys, traceback, cv2, argparse, pathlib, os, matplotlib \n",
    "import numpy as np\n",
    "from datetime import datetime\n",
    "%matplotlib notebook\n"
   ]
  },
  {
   "cell_type": "code",
   "execution_count": null,
   "id": "assured-tablet",
   "metadata": {},
   "outputs": [],
   "source": [
    "pcv.__version__ \n",
    "# want to be on v4.x so that we can use the new parallelization and NIR+RBG to get NDVI spectral combination \n",
    "# Shouldd be something like 3.14.1+781.ge53ea6e"
   ]
  },
  {
   "cell_type": "markdown",
   "id": "thorough-nickel",
   "metadata": {},
   "source": [
    "# Testing purposes\n",
    "Create a list of test images. I have 25 VIS images per experimental code, and a corresponding NIR image within the testing directory. Should just be z1 and SV images, includes both 0 and 90 rotation viewpoints. "
   ]
  },
  {
   "cell_type": "code",
   "execution_count": null,
   "id": "filled-filling",
   "metadata": {},
   "outputs": [],
   "source": [
    "path = \"./imgs/testing/\"\n",
    "dir_list = os.path.expanduser(path)\n",
    "dir_list = [os.path.join(dp, f) for dp, dn, fn in os.walk(os.path.expanduser(path)) for f in fn]\n",
    "\n",
    "img_list = [] \n",
    "for file in dir_list:\n",
    "    if \".png\" == pathlib.Path(file).suffix and \"VIS\" in file and \"SV\" in file:\n",
    "        img_list.append(file)"
   ]
  },
  {
   "cell_type": "markdown",
   "id": "elect-issue",
   "metadata": {},
   "source": [
    "# Start"
   ]
  },
  {
   "cell_type": "code",
   "execution_count": null,
   "id": "instant-liberty",
   "metadata": {},
   "outputs": [],
   "source": [
    "# Used this code to loop through replicates.\n",
    "i=98"
   ]
  },
  {
   "cell_type": "code",
   "execution_count": null,
   "id": "medical-pension",
   "metadata": {
    "scrolled": false
   },
   "outputs": [],
   "source": [
    "i += 1\n",
    "print(i)"
   ]
  },
  {
   "cell_type": "code",
   "execution_count": null,
   "id": "missing-favorite",
   "metadata": {
    "scrolled": true
   },
   "outputs": [],
   "source": [
    "from plantcv.parallel import WorkflowInputs\n",
    "# Set input variables\n",
    "args = WorkflowInputs(images=[img_list[i]],\n",
    "                      names=\"image\",\n",
    "                      result=\"plantcv_results.csv\",\n",
    "                      debug=\"plot\")\n",
    "\n",
    "# Set variables\n",
    "pcv.params.debug = args.debug\n",
    "\n",
    "rgb_img, path, filename = pcv.readimage(filename=args.image)\n",
    "print(path)\n"
   ]
  },
  {
   "cell_type": "code",
   "execution_count": null,
   "id": "southeast-oasis",
   "metadata": {},
   "outputs": [],
   "source": [
    "path_components = os.path.normpath(path).split(os.path.sep)\n",
    "date = datetime.fromisoformat(path_components[-2])"
   ]
  },
  {
   "cell_type": "code",
   "execution_count": null,
   "id": "clinical-marshall",
   "metadata": {},
   "outputs": [],
   "source": [
    "# Set ROI location depending on timepoint \n",
    "roi_w = 900\n",
    "if date <= datetime(2016, 5, 27):\n",
    "    roi_h = 1520 \n",
    "elif datetime(2016,5,27) < date <= datetime(2016,6,7):\n",
    "    roi_h = 1460\n",
    "elif datetime(2016,6,7) < date <= datetime(2016,8,20): # lt2 is annoying :( \n",
    "    roi_h = 1520\n",
    "# elif datetime(2016,8,20) < date <= datetime(2016,8,20):\n",
    "#     roi_h = 1340\n",
    "# elif datetime(2016,8,20) < date <= datetime(2016,9,27):\n",
    "#     roi_h = 1230\n",
    "     \n",
    "    \n",
    "## Info about which indices correspond to which experiments \n",
    "# img_list_lt1a = img_list[:49] # End date 2016-05-27                       --> roi x=800, y=100, h=1520, w=900\n",
    "# img_list_lt1b = img_list[50:99] # 2016-05-27 through 2016-06-06           -->     x=800, y=100, h=1460, w=900\n",
    "# img_list_lt2 = img_list[100:149] \n",
    "# 2016-08-01 through 2016-08-20.                                            --> roi x=800, y=100, h=1520, w=900\n",
    "    # inconsistent though UGH first few reps are lower and on 2016-08-20    -->     x=800, y=100, h=1340, w=900\n",
    "# img_list_lt3 = img_list[150:199] # 2016-09-27 through 2016-10             -->      x=800, y=100, h=1230, w=900\n",
    "    # Inconsistent again. First few reps are lower (before 10/07)\n",
    "\n",
    "# img_list_lt4a = img_list[200:249] # 2016-11-28 through 2016-12-09         -->      x=800, y=100, h=1225, w=900\n",
    "    # Segmentation issues, picking up lots of the side of pot \n",
    "    # Include empty pot??? mask the pot\n",
    "# img_list_lt4b = img_list[250:299] # 2016-12-09 through 2016-12-20         -->      x=800, y=100, h=1225, w=900\n",
    "    # Right side of pot also an issue for this run \n",
    "\n",
    "# img_list_lt5a = img_list[300:349] # 2017-01-06 through end of the month   -->      x=800, y=100, h=1510, w=900\n",
    "    # Inconsistent pot height again UGH taller pot 2017-01-18 til end       -->      x=800, y=100, h=1330, w=900\n",
    "    # Taller pot again 2017-01-21 through end but large plants cause issue  -->      x=800, y=100, h=1230, w=900\n",
    "# img_list_lt5b = img_list[350:399] # 2017-02-03 through end of the month   -->.     x=800, y=100, h=1520, w=900\n",
    "    # Taller pot again 2017-02-11 through "
   ]
  },
  {
   "cell_type": "code",
   "execution_count": null,
   "id": "developmental-crime",
   "metadata": {
    "scrolled": false
   },
   "outputs": [],
   "source": [
    "roi, roi_hierarchy= pcv.roi.rectangle(img=rgb_img, x=800, y=100, h=roi_h, w=900)"
   ]
  },
  {
   "cell_type": "code",
   "execution_count": null,
   "id": "unavailable-survivor",
   "metadata": {},
   "outputs": [],
   "source": []
  },
  {
   "cell_type": "code",
   "execution_count": null,
   "id": "allied-tennis",
   "metadata": {},
   "outputs": [],
   "source": [
    "pcv.params.text_size = 3\n",
    "pcv.params.text_thickness = 3\n",
    "colorspace_img = pcv.visualize.colorspaces(rgb_img=rgb_img, original_img=False)\n",
    "\n",
    "#labeled_imgs = pcv.visualize.auto_threshold_methods(gray_img=s, grid_img=True, object_type=\"light\")"
   ]
  },
  {
   "cell_type": "code",
   "execution_count": null,
   "id": "accepted-removal",
   "metadata": {},
   "outputs": [],
   "source": [
    "b = pcv.rgb2gray_lab(rgb_img=rgb_img, channel='b')\n"
   ]
  },
  {
   "cell_type": "code",
   "execution_count": null,
   "id": "fossil-verification",
   "metadata": {
    "scrolled": true
   },
   "outputs": [],
   "source": [
    "b_thresh = pcv.threshold.binary(gray_img=b, threshold=132, max_value=255, object_type='light')\n"
   ]
  },
  {
   "cell_type": "code",
   "execution_count": null,
   "id": "chinese-southeast",
   "metadata": {},
   "outputs": [],
   "source": [
    "#labeled_imgs = pcv.visualize.obj_sizes(img=rgb_img, mask=b_thresh)"
   ]
  },
  {
   "cell_type": "code",
   "execution_count": null,
   "id": "subtle-builder",
   "metadata": {},
   "outputs": [],
   "source": [
    "fill = pcv.fill(bin_img=b_thresh, size=100)\n",
    "id_objects, obj_hierarchy = pcv.find_objects(img=rgb_img, mask=fill)"
   ]
  },
  {
   "cell_type": "code",
   "execution_count": null,
   "id": "forbidden-method",
   "metadata": {
    "scrolled": true
   },
   "outputs": [],
   "source": [
    "roi_objects, roi_hier, kept_mask, obj_area = pcv.roi_objects(img=rgb_img, roi_contour=roi,\n",
    "                                                              roi_hierarchy=roi_hierarchy,\n",
    "                                                              object_contour=id_objects,\n",
    "                                                              obj_hierarchy=obj_hierarchy,\n",
    "                                                              roi_type='partial')"
   ]
  },
  {
   "cell_type": "code",
   "execution_count": null,
   "id": "reverse-daisy",
   "metadata": {},
   "outputs": [],
   "source": [
    "mask = pcv.median_blur(gray_img=kept_mask, ksize=5)\n",
    "clean_mask = pcv.fill(bin_img=mask, size=500)\n"
   ]
  },
  {
   "cell_type": "code",
   "execution_count": null,
   "id": "declared-harrison",
   "metadata": {
    "scrolled": true
   },
   "outputs": [],
   "source": [
    "blended = pcv.visualize.overlay_two_imgs(img1=rgb_img, img2=clean_mask, alpha=0.4)"
   ]
  },
  {
   "cell_type": "markdown",
   "id": "handed-warrior",
   "metadata": {},
   "source": [
    "# STOP 🛑 ✋ "
   ]
  },
  {
   "cell_type": "code",
   "execution_count": null,
   "id": "charged-variance",
   "metadata": {},
   "outputs": [],
   "source": [
    "#if obj_area > 0: # include in parallel but skip for now \n",
    "id_objects, obj_hierarchy = pcv.find_objects(img=rgb_img, mask=clean_mask)\n",
    "obj, mask = pcv.object_composition(img=rgb_img, contours=id_objects, hierarchy=obj_hierarchy)\n",
    "# Find shape properties, output shape image (optional)\n",
    "shape_imgs = pcv.analyze_object(img=rgb_img, obj=obj, mask=mask, label=\"default\")\n",
    "# Shape properties relative to user boundary line (optional)\n",
    "boundary_img1 = pcv.analyze_bound_horizontal(img=rgb_img, obj=obj, mask=mask, line_position=1330, label=\"default\")\n",
    "# Determine color properties: Histograms, Color Slices, output color analyzed histogram (optional)\n",
    "color_histogram = pcv.analyze_color(rgb_img=rgb_img, mask=mask, hist_plot_type=None, colorspaces=\"hsv\", label=\"default\")\n",
    "\n",
    "# Pseudocolor the grayscale image\n",
    "s = pcv.rgb2gray_hsv(rgb_img=rgb_img, channel='s')\n",
    "pseudocolored_img = pcv.visualize.pseudocolor(gray_img=s, mask=mask, cmap='jet')"
   ]
  },
  {
   "cell_type": "code",
   "execution_count": null,
   "id": "insured-register",
   "metadata": {},
   "outputs": [],
   "source": [
    "nir_path = pcv.get_nir(path=path, filename=filename)\n",
    "nir_img, path, img_filename = pcv.readimage(filename= nir_path, mode=\"native\")\n",
    "\n",
    "# Transform/warp the image \n",
    "warped_img, mat = pcv.transform.warp(img=rgb_img, refimg=nir_img,\n",
    "                                     pts=[(495,435), (500,1126), (512,1797), (1990,440), (1985,1125), (1976,1795)],\n",
    "                                     refpts=[(105,119), (105,313), (104,499), (525,119), (525,313), (527,499)],\n",
    "                                     method='lmeds')"
   ]
  },
  {
   "cell_type": "code",
   "execution_count": null,
   "id": "composed-arrangement",
   "metadata": {},
   "outputs": [],
   "source": [
    "# Use same points to warp the mask to the NIR image \n",
    "warped_mask, mat2 = pcv.transform.warp(img=mask, refimg=nir_img,\n",
    "                                     pts=[(495,435), (500,1126), (512,1797), (1990,440), (1985,1125), (1976,1795)],\n",
    "                                     refpts=[(105,119), (105,313), (104,499), (525,119), (525,313), (527,499)],\n",
    "                                     method='lmeds')"
   ]
  },
  {
   "cell_type": "code",
   "execution_count": null,
   "id": "joint-auditor",
   "metadata": {},
   "outputs": [],
   "source": [
    "# Output here seems wrong.. usually one large peak? \n",
    "analysis_nir = pcv.analyze_nir_intensity(gray_img=nir_img, mask=warped_mask, bins=256, histplot=None, label=\"default\")"
   ]
  },
  {
   "cell_type": "code",
   "execution_count": null,
   "id": "animated-password",
   "metadata": {},
   "outputs": [],
   "source": [
    "wvs1 = [480.0, 550.0, 670.0]\n",
    "wvs2 = [800.0]\n",
    "fused_img = pcv.image_fusion(img1=warped_img, img2=nir_img, wvs1=wvs1, wvs2=wvs2,\n",
    "                         array_type=\"vis-nir_fusion\")\n",
    "ndvi = pcv.spectral_index.ndvi(fused_img)\n",
    "# Pseudocolor the NDVI image\n",
    "colmap = pcv.visualize.pseudocolor(gray_img=ndvi.array_data, mask=warped_mask, cmap=\"RdYlGn\",\n",
    "                                   min_value=-0.8, max_value=0.8)"
   ]
  },
  {
   "cell_type": "code",
   "execution_count": null,
   "id": "minimal-passage",
   "metadata": {},
   "outputs": [],
   "source": [
    "gdvi = pcv.spectral_index.gdvi(fused_img)\n",
    "psri = pcv.spectral_index.psri(fused_img)\n",
    "colmap1 = pcv.visualize.pseudocolor(gray_img=psri.array_data, mask=warped_mask, cmap=\"RdYlGn\",\n",
    "                                   min_value=-0.8, max_value=0.8)\n",
    "colmap2 = pcv.visualize.pseudocolor(gray_img=gdvi.array_data, mask=warped_mask, cmap=\"RdYlGn\",\n",
    "                                   min_value=-0.8, max_value=0.8)\n",
    "gdvi_array = np.histogram(gdvi.array_data, bins=256)\n",
    "\n",
    "# Calculate histogram\n",
    "gdvi_hyper = pcv.hyperspectral.analyze_index(index_array=gdvi, mask=warped_mask, bins=100, min_bin=-2, max_bin=2, label=\"default\")\n",
    "psri_hyper = pcv.hyperspectral.analyze_index(index_array=psri, mask=warped_mask, bins=100, min_bin=np.amin(psri.array_data), max_bin=np.amax(psri.array_data), label=\"PSRI array data\")\n",
    "ndvi_hyper = pcv.hyperspectral.analyze_index(index_array=ndvi, mask=warped_mask, bins=100, min_bin=-1, max_bin=1, label=\"NDVI array data\")\n",
    "\n",
    "pcv.outputs.save_results(filename=args.result)"
   ]
  },
  {
   "cell_type": "code",
   "execution_count": null,
   "id": "backed-logan",
   "metadata": {},
   "outputs": [],
   "source": []
  }
 ],
 "metadata": {
  "kernelspec": {
   "display_name": "Python (PlantCV)",
   "language": "python",
   "name": "plantcv"
  },
  "language_info": {
   "codemirror_mode": {
    "name": "ipython",
    "version": 3
   },
   "file_extension": ".py",
   "mimetype": "text/x-python",
   "name": "python",
   "nbconvert_exporter": "python",
   "pygments_lexer": "ipython3",
   "version": "3.9.15"
  }
 },
 "nbformat": 4,
 "nbformat_minor": 5
}
